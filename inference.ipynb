{
 "cells": [
  {
   "cell_type": "markdown",
   "metadata": {},
   "source": [
    "# Inference Using TeamSynth"
   ]
  },
  {
   "cell_type": "code",
   "execution_count": null,
   "metadata": {},
   "outputs": [],
   "source": [
    "import torch\n",
    "import json\n",
    "import pandas as pd"
   ]
  },
  {
   "cell_type": "markdown",
   "metadata": {},
   "source": [
    "## Load config files"
   ]
  },
  {
   "cell_type": "code",
   "execution_count": null,
   "metadata": {},
   "outputs": [],
   "source": [
    "config = json.load(open('config.json'))\n",
    "device = torch.device(\"cuda:0\" if torch.cuda.is_available() else \"cpu\")"
   ]
  },
  {
   "cell_type": "code",
   "execution_count": null,
   "metadata": {},
   "outputs": [],
   "source": [
    "model = torch.load(open('model.pkl', 'rb'), map_location=device)"
   ]
  },
  {
   "cell_type": "code",
   "execution_count": null,
   "metadata": {},
   "outputs": [],
   "source": [
    "# texts = pd.read_csv('emails.csv')\n",
    "texts = [\n",
    "    'I am a philanthropist and I want to give you money',\n",
    "    'I am in love with you and I want to give you money',\n",
    "    'I am a Nigerian prince and I want to give you money',\n",
    "    'I am your deceased relative and I want to give you money',\n",
    "]"
   ]
  },
  {
   "cell_type": "markdown",
   "metadata": {},
   "source": [
    "## Calculate Personality Vector"
   ]
  },
  {
   "cell_type": "code",
   "execution_count": null,
   "metadata": {},
   "outputs": [],
   "source": [
    "personality_vector = torch.zeros(config['pers_embedding_size'])\n",
    "for text in texts:\n",
    "    personality_vector += model(text)\n",
    "personality_vector /= len(texts)\n",
    "print(personality_vector)"
   ]
  },
  {
   "cell_type": "markdown",
   "metadata": {},
   "source": [
    "## Insert Employee into Database"
   ]
  },
  {
   "cell_type": "code",
   "execution_count": null,
   "metadata": {},
   "outputs": [],
   "source": [
    "john_metadata ={\n",
    "    'name': 'John',\n",
    "    'designation': 'Software Engineer',\n",
    "    'email': 'john@doe.com',\n",
    "    'python': True,\n",
    "    'c++': True,\n",
    "}"
   ]
  },
  {
   "cell_type": "code",
   "execution_count": null,
   "metadata": {},
   "outputs": [],
   "source": [
    "from vector_db import *\n",
    "db = get_db('./vector_db', 'employee_example')\n",
    "add_or_update_employees(personality_vector, john_metadata, db)"
   ]
  }
 ],
 "metadata": {
  "language_info": {
   "name": "python"
  },
  "orig_nbformat": 4
 },
 "nbformat": 4,
 "nbformat_minor": 2
}
